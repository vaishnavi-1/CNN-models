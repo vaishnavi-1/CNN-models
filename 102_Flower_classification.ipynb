{
  "nbformat": 4,
  "nbformat_minor": 0,
  "metadata": {
    "colab": {
      "name": "102 Flower classification.ipynb",
      "provenance": [],
      "authorship_tag": "ABX9TyOS10gepesokmx+P717E6lP",
      "include_colab_link": true
    },
    "kernelspec": {
      "name": "python3",
      "display_name": "Python 3"
    },
    "accelerator": "GPU"
  },
  "cells": [
    {
      "cell_type": "markdown",
      "metadata": {
        "id": "view-in-github",
        "colab_type": "text"
      },
      "source": [
        "<a href=\"https://colab.research.google.com/github/vaishnavi-1/CNN-models/blob/master/102_Flower_classification.ipynb\" target=\"_parent\"><img src=\"https://colab.research.google.com/assets/colab-badge.svg\" alt=\"Open In Colab\"/></a>"
      ]
    },
    {
      "cell_type": "code",
      "metadata": {
        "id": "3nMbl7U5Hqsb",
        "colab_type": "code",
        "colab": {
          "base_uri": "https://localhost:8080/",
          "height": 121
        },
        "outputId": "63de3dc2-3bae-4d3e-9ac9-1ad6ea9c62f0"
      },
      "source": [
        "from google.colab import drive\n",
        " \n",
        "drive.mount('/content/drive')"
      ],
      "execution_count": 1,
      "outputs": [
        {
          "output_type": "stream",
          "text": [
            "Go to this URL in a browser: https://accounts.google.com/o/oauth2/auth?client_id=947318989803-6bn6qk8qdgf4n4g3pfee6491hc0brc4i.apps.googleusercontent.com&redirect_uri=urn%3aietf%3awg%3aoauth%3a2.0%3aoob&response_type=code&scope=email%20https%3a%2f%2fwww.googleapis.com%2fauth%2fdocs.test%20https%3a%2f%2fwww.googleapis.com%2fauth%2fdrive%20https%3a%2f%2fwww.googleapis.com%2fauth%2fdrive.photos.readonly%20https%3a%2f%2fwww.googleapis.com%2fauth%2fpeopleapi.readonly\n",
            "\n",
            "Enter your authorization code:\n",
            "··········\n",
            "Mounted at /content/drive\n"
          ],
          "name": "stdout"
        }
      ]
    },
    {
      "cell_type": "code",
      "metadata": {
        "id": "UATcVET6HtKI",
        "colab_type": "code",
        "colab": {
          "base_uri": "https://localhost:8080/",
          "height": 34
        },
        "outputId": "8b88d352-0d5b-4fa2-cbf8-cc7bc7b24982"
      },
      "source": [
        "cd '/content/drive/My Drive/sblock/102Flower'"
      ],
      "execution_count": 5,
      "outputs": [
        {
          "output_type": "stream",
          "text": [
            "/content/drive/My Drive/sblock/102Flower\n"
          ],
          "name": "stdout"
        }
      ]
    },
    {
      "cell_type": "code",
      "metadata": {
        "id": "bLMlqhBcHtg6",
        "colab_type": "code",
        "colab": {
          "base_uri": "https://localhost:8080/",
          "height": 430
        },
        "outputId": "d21231f0-262e-49df-c63b-de7fb57d67bd"
      },
      "source": [
        "!wget http://www.robots.ox.ac.uk/~vgg/data/flowers/102/102flowers.tgz\n",
        "!tar -xzf 102flowers.tgz\n",
        "!rm 102flowers.tgz\n",
        "!wget http://www.robots.ox.ac.u\n",
        "k/~vgg/data/flowers/102/imagelabels.mat"
      ],
      "execution_count": 6,
      "outputs": [
        {
          "output_type": "stream",
          "text": [
            "--2020-08-10 03:39:27--  http://www.robots.ox.ac.uk/~vgg/data/flowers/102/102flowers.tgz\n",
            "Resolving www.robots.ox.ac.uk (www.robots.ox.ac.uk)... 129.67.94.2\n",
            "Connecting to www.robots.ox.ac.uk (www.robots.ox.ac.uk)|129.67.94.2|:80... connected.\n",
            "HTTP request sent, awaiting response... 200 OK\n",
            "Length: 344862509 (329M) [application/x-gzip]\n",
            "Saving to: ‘102flowers.tgz’\n",
            "\n",
            "102flowers.tgz      100%[===================>] 328.89M  10.4MB/s    in 34s     \n",
            "\n",
            "2020-08-10 03:40:03 (9.58 MB/s) - ‘102flowers.tgz’ saved [344862509/344862509]\n",
            "\n",
            "--2020-08-10 03:43:56--  http://www.robots.ox.ac.u/\n",
            "Resolving www.robots.ox.ac.u (www.robots.ox.ac.u)... failed: Name or service not known.\n",
            "wget: unable to resolve host address ‘www.robots.ox.ac.u’\n"
          ],
          "name": "stdout"
        },
        {
          "output_type": "error",
          "ename": "NameError",
          "evalue": "ignored",
          "traceback": [
            "\u001b[0;31m---------------------------------------------------------------------------\u001b[0m",
            "\u001b[0;31mNameError\u001b[0m                                 Traceback (most recent call last)",
            "\u001b[0;32m<ipython-input-6-f6bc1d5bf502>\u001b[0m in \u001b[0;36m<module>\u001b[0;34m()\u001b[0m\n\u001b[1;32m      3\u001b[0m \u001b[0mget_ipython\u001b[0m\u001b[0;34m(\u001b[0m\u001b[0;34m)\u001b[0m\u001b[0;34m.\u001b[0m\u001b[0msystem\u001b[0m\u001b[0;34m(\u001b[0m\u001b[0;34m'rm 102flowers.tgz'\u001b[0m\u001b[0;34m)\u001b[0m\u001b[0;34m\u001b[0m\u001b[0;34m\u001b[0m\u001b[0m\n\u001b[1;32m      4\u001b[0m \u001b[0mget_ipython\u001b[0m\u001b[0;34m(\u001b[0m\u001b[0;34m)\u001b[0m\u001b[0;34m.\u001b[0m\u001b[0msystem\u001b[0m\u001b[0;34m(\u001b[0m\u001b[0;34m'wget http://www.robots.ox.ac.u'\u001b[0m\u001b[0;34m)\u001b[0m\u001b[0;34m\u001b[0m\u001b[0;34m\u001b[0m\u001b[0m\n\u001b[0;32m----> 5\u001b[0;31m \u001b[0mk\u001b[0m\u001b[0;34m/\u001b[0m\u001b[0;34m~\u001b[0m\u001b[0mvgg\u001b[0m\u001b[0;34m/\u001b[0m\u001b[0mdata\u001b[0m\u001b[0;34m/\u001b[0m\u001b[0mflowers\u001b[0m\u001b[0;34m/\u001b[0m\u001b[0;36m102\u001b[0m\u001b[0;34m/\u001b[0m\u001b[0mimagelabels\u001b[0m\u001b[0;34m.\u001b[0m\u001b[0mmat\u001b[0m\u001b[0;34m\u001b[0m\u001b[0;34m\u001b[0m\u001b[0m\n\u001b[0m",
            "\u001b[0;31mNameError\u001b[0m: name 'k' is not defined"
          ]
        }
      ]
    },
    {
      "cell_type": "code",
      "metadata": {
        "id": "rq8S9qWT6bJU",
        "colab_type": "code",
        "colab": {}
      },
      "source": [
        "\n",
        "import os\n",
        "import numpy as np\n",
        "import scipy.io\n",
        "import cv2\n",
        "from keras.utils import to_categorical\n",
        "from sklearn.model_selection import train_test_split"
      ],
      "execution_count": 11,
      "outputs": []
    },
    {
      "cell_type": "code",
      "metadata": {
        "id": "tuv5deYL6vxM",
        "colab_type": "code",
        "colab": {}
      },
      "source": [
        "\n",
        "img_labels = scipy.io.loadmat(\"imagelabels.mat\")\n",
        "img_labels = img_labels[\"labels\"]\n",
        "img_labels = img_labels[0]\n",
        "for i in range(len(img_labels)):\n",
        "  img_labels[i] = img_labels[i] - 1"
      ],
      "execution_count": 12,
      "outputs": []
    },
    {
      "cell_type": "code",
      "metadata": {
        "id": "HXXxnask7Ayk",
        "colab_type": "code",
        "colab": {}
      },
      "source": [
        "train_x = []\n",
        "train_y = []\n",
        "dir = \"jpg/\"\n",
        "for imgs in os.listdir(dir):\n",
        "  img_num = int(imgs[7:11])-1\n",
        "  train_y.append(img_labels[img_num])\n",
        "  image = cv2.imread(os.path.join(dir, imgs))\n",
        "  resized = cv2.resize(image, (150,150))\n",
        "  normalized_img = cv2.normalize(resized, None, alpha=0, beta=1, \n",
        "                            norm_type=cv2.NORM_MINMAX, dtype=cv2.CV_32F)\n",
        "  train_x.append(normalized_img)\n",
        "train_x = np.array(train_x)"
      ],
      "execution_count": 13,
      "outputs": []
    },
    {
      "cell_type": "code",
      "metadata": {
        "id": "FiWWa6gv7QnX",
        "colab_type": "code",
        "colab": {}
      },
      "source": [
        "\n",
        "trainx, valx, trainy, valy = train_test_split(train_x, train_y, test_size=0.15, random_state=10)"
      ],
      "execution_count": 16,
      "outputs": []
    },
    {
      "cell_type": "code",
      "metadata": {
        "id": "N-KiN-s979u_",
        "colab_type": "code",
        "colab": {
          "base_uri": "https://localhost:8080/",
          "height": 50
        },
        "outputId": "d050eb9e-e3ed-47d3-d75e-0a5388944d54"
      },
      "source": [
        "print('Training Dataset Shape: ­{}'.format(trainx.shape))\n",
        "print('No. of Training Dataset Labels: {}'.format(len(trainy)))"
      ],
      "execution_count": 17,
      "outputs": [
        {
          "output_type": "stream",
          "text": [
            "Training Dataset Shape: ­(6960, 150, 150, 3)\n",
            "No. of Training Dataset Labels: 6960\n"
          ],
          "name": "stdout"
        }
      ]
    },
    {
      "cell_type": "code",
      "metadata": {
        "id": "5yN5I958-vcZ",
        "colab_type": "code",
        "colab": {
          "base_uri": "https://localhost:8080/",
          "height": 84
        },
        "outputId": "c8a118cb-7fd8-4dd4-b442-304c4ce4ecaa"
      },
      "source": [
        "training_images= trainx/255.0\n",
        "test_images=valx/255.0\n",
        " \n",
        "training_images = trainx.reshape((6960,150,150,3))\n",
        "valx = valx.reshape((1229,150,150,3))\n",
        "print('Training Dataset Shape: ­{}'.format(trainx.shape))\n",
        "print('No. of Training Dataset Labels: {}'.format(len(trainy)))\n",
        "print('Test Dataset Shape: {}'.format(valx.shape))\n",
        "print('No. of Test Dataset Labels: {}'.format(len(valy)))"
      ],
      "execution_count": 18,
      "outputs": [
        {
          "output_type": "stream",
          "text": [
            "Training Dataset Shape: ­(6960, 150, 150, 3)\n",
            "No. of Training Dataset Labels: 6960\n",
            "Test Dataset Shape: (1229, 150, 150, 3)\n",
            "No. of Test Dataset Labels: 1229\n"
          ],
          "name": "stdout"
        }
      ]
    },
    {
      "cell_type": "code",
      "metadata": {
        "id": "YiJKXlGY-8oI",
        "colab_type": "code",
        "colab": {}
      },
      "source": [
        "trainy = to_categorical(trainy)\n",
        "valy = to_categorical(valy)"
      ],
      "execution_count": 19,
      "outputs": []
    },
    {
      "cell_type": "code",
      "metadata": {
        "id": "o3B3WcYP_Eh6",
        "colab_type": "code",
        "colab": {
          "base_uri": "https://localhost:8080/",
          "height": 50
        },
        "outputId": "8c946743-167e-4782-bbf1-81b764b093f2"
      },
      "source": [
        "print(type(test_images))\n",
        "print(type(valy))\n",
        "from numpy import save\n",
        "save('test_images.npy', training_images)\n",
        "save('test_lables.npy',trainy)"
      ],
      "execution_count": 20,
      "outputs": [
        {
          "output_type": "stream",
          "text": [
            "<class 'numpy.ndarray'>\n",
            "<class 'numpy.ndarray'>\n"
          ],
          "name": "stdout"
        }
      ]
    },
    {
      "cell_type": "code",
      "metadata": {
        "id": "Yks_QJ8z_KDH",
        "colab_type": "code",
        "colab": {
          "base_uri": "https://localhost:8080/",
          "height": 353
        },
        "outputId": "42e33d5f-bb97-4783-e765-fbb8089b8666"
      },
      "source": [
        "import matplotlib.pyplot as plt\n",
        "plt.imshow(training_images[123])\n",
        "print(trainy[123])"
      ],
      "execution_count": 21,
      "outputs": [
        {
          "output_type": "stream",
          "text": [
            "[0. 0. 0. 0. 0. 0. 0. 0. 0. 0. 0. 0. 0. 0. 0. 0. 0. 0. 0. 0. 0. 0. 0. 0.\n",
            " 0. 0. 0. 0. 0. 0. 0. 0. 0. 0. 0. 0. 0. 0. 0. 0. 0. 0. 0. 0. 0. 0. 0. 0.\n",
            " 0. 0. 0. 0. 0. 0. 0. 0. 0. 0. 0. 0. 0. 0. 0. 0. 1. 0. 0. 0. 0. 0. 0. 0.\n",
            " 0. 0. 0. 0. 0. 0. 0. 0. 0. 0. 0. 0. 0. 0. 0. 0. 0. 0. 0. 0. 0. 0. 0. 0.\n",
            " 0. 0. 0. 0. 0. 0.]\n"
          ],
          "name": "stdout"
        },
        {
          "output_type": "display_data",
          "data": {
            "image/png": "[encoded data removed]",
            "text/plain": [
              "<Figure size 432x288 with 1 Axes>"
            ]
          },
          "metadata": {
            "tags": [],
            "needs_background": "light"
          }
        }
      ]
    },
    {
      "cell_type": "code",
      "metadata": {
        "id": "z5rDSMdw_blj",
        "colab_type": "code",
        "colab": {
          "base_uri": "https://localhost:8080/",
          "height": 1000
        },
        "outputId": "a3f5bc43-9146-4daa-f6a5-adfcfa6f9ba2"
      },
      "source": [
        "from keras.layers import Dense, Conv2D, Flatten, MaxPooling2D, Dropout\n",
        "from keras.models import Sequential\n",
        "from tensorflow.keras import layers\n",
        "from tensorflow.keras import regularizers\n",
        "\n",
        "model = Sequential()\n",
        "# #Layer 1\n",
        "model.add(Conv2D(64, kernel_size=3, activation='relu', input_shape=(150, 150, 3),strides=(2,2)))\n",
        "model.add(MaxPooling2D((2,2)))\n",
        "model.add(Dropout(0.3))\n",
        " \n",
        "# #Layer 2\n",
        "model.add(Conv2D(128, kernel_size=3, activation='relu'))\n",
        "model.add(MaxPooling2D((2,2)))\n",
        "model.add(Dropout(0.4))\n",
        "# #Layer 3\n",
        " \n",
        "model.add(Conv2D(128, kernel_size=3, activation='relu'))\n",
        "model.add(MaxPooling2D((2,2)))\n",
        "model.add(Dropout(0.5))\n",
        "# #Layer 4\n",
        "model.add(Conv2D(256, kernel_size=3, activation='relu'))\n",
        "model.add(MaxPooling2D((2,2)))\n",
        "\n",
        "# #Input to Neural Network is flattened\n",
        "model.add(Flatten())\n",
        "# #1st hidden layer with 512 neurons/nodes\n",
        "model.add(Dense(512, activation='relu'))\n",
        "model.add(Dropout(0.6))\n",
        "# #Output layer with 102 nodes for classifying 102 flowers\n",
        "model.add(Dense(102, activation='softmax'))\n",
        " \n",
        "\"\"\"## Compiling and Training the Neural Network\"\"\"\n",
        " \n",
        "#Compile the neural network\n",
        "model.compile(optimizer=\"adam\", loss=\"categorical_crossentropy\", metrics=[\"accuracy\"])\n",
        " \n",
        "#Train the network\n",
        "model.fit(trainx, trainy, validation_data = (valx, valy), epochs=80, batch_size=200)"
      ],
      "execution_count": 22,
      "outputs": [
        {
          "output_type": "stream",
          "text": [
            "Epoch 1/80\n",
            "35/35 [==============================] - 4s 107ms/step - loss: 4.5192 - accuracy: 0.0343 - val_loss: 4.4400 - val_accuracy: 0.0537\n",
            "Epoch 2/80\n",
            "35/35 [==============================] - 3s 91ms/step - loss: 4.1767 - accuracy: 0.0559 - val_loss: 4.0423 - val_accuracy: 0.0871\n",
            "Epoch 3/80\n",
            "35/35 [==============================] - 3s 90ms/step - loss: 3.8583 - accuracy: 0.0833 - val_loss: 3.7839 - val_accuracy: 0.1041\n",
            "Epoch 4/80\n",
            "35/35 [==============================] - 3s 90ms/step - loss: 3.6844 - accuracy: 0.0981 - val_loss: 3.6535 - val_accuracy: 0.1522\n",
            "Epoch 5/80\n",
            "35/35 [==============================] - 3s 90ms/step - loss: 3.5104 - accuracy: 0.1259 - val_loss: 3.4588 - val_accuracy: 0.1595\n",
            "Epoch 6/80\n",
            "35/35 [==============================] - 3s 88ms/step - loss: 3.3048 - accuracy: 0.1634 - val_loss: 3.1948 - val_accuracy: 0.1920\n",
            "Epoch 7/80\n",
            "35/35 [==============================] - 3s 92ms/step - loss: 3.1308 - accuracy: 0.2026 - val_loss: 3.0337 - val_accuracy: 0.2392\n",
            "Epoch 8/80\n",
            "35/35 [==============================] - 3s 91ms/step - loss: 2.9465 - accuracy: 0.2329 - val_loss: 2.8707 - val_accuracy: 0.3002\n",
            "Epoch 9/80\n",
            "35/35 [==============================] - 3s 92ms/step - loss: 2.7929 - accuracy: 0.2622 - val_loss: 2.6769 - val_accuracy: 0.3108\n",
            "Epoch 10/80\n",
            "35/35 [==============================] - 3s 89ms/step - loss: 2.6346 - accuracy: 0.2932 - val_loss: 2.5408 - val_accuracy: 0.3352\n",
            "Epoch 11/80\n",
            "35/35 [==============================] - 3s 91ms/step - loss: 2.5309 - accuracy: 0.3129 - val_loss: 2.4668 - val_accuracy: 0.3621\n",
            "Epoch 12/80\n",
            "35/35 [==============================] - 3s 90ms/step - loss: 2.3768 - accuracy: 0.3524 - val_loss: 2.3954 - val_accuracy: 0.3922\n",
            "Epoch 13/80\n",
            "35/35 [==============================] - 3s 91ms/step - loss: 2.3145 - accuracy: 0.3671 - val_loss: 2.2935 - val_accuracy: 0.3963\n",
            "Epoch 14/80\n",
            "35/35 [==============================] - 3s 90ms/step - loss: 2.2338 - accuracy: 0.3889 - val_loss: 2.2159 - val_accuracy: 0.4003\n",
            "Epoch 15/80\n",
            "35/35 [==============================] - 3s 90ms/step - loss: 2.1188 - accuracy: 0.4200 - val_loss: 2.1337 - val_accuracy: 0.4508\n",
            "Epoch 16/80\n",
            "35/35 [==============================] - 3s 90ms/step - loss: 2.0021 - accuracy: 0.4434 - val_loss: 2.0726 - val_accuracy: 0.4410\n",
            "Epoch 17/80\n",
            "35/35 [==============================] - 3s 92ms/step - loss: 1.9538 - accuracy: 0.4562 - val_loss: 1.9847 - val_accuracy: 0.4695\n",
            "Epoch 18/80\n",
            "35/35 [==============================] - 3s 92ms/step - loss: 1.8691 - accuracy: 0.4770 - val_loss: 1.9596 - val_accuracy: 0.4670\n",
            "Epoch 19/80\n",
            "35/35 [==============================] - 3s 92ms/step - loss: 1.8536 - accuracy: 0.4776 - val_loss: 1.9250 - val_accuracy: 0.4809\n",
            "Epoch 20/80\n",
            "35/35 [==============================] - 3s 90ms/step - loss: 1.7267 - accuracy: 0.5102 - val_loss: 1.8545 - val_accuracy: 0.5126\n",
            "Epoch 21/80\n",
            "35/35 [==============================] - 3s 89ms/step - loss: 1.6822 - accuracy: 0.5220 - val_loss: 1.8061 - val_accuracy: 0.5126\n",
            "Epoch 22/80\n",
            "35/35 [==============================] - 3s 91ms/step - loss: 1.6123 - accuracy: 0.5346 - val_loss: 1.7755 - val_accuracy: 0.5273\n",
            "Epoch 23/80\n",
            "35/35 [==============================] - 3s 90ms/step - loss: 1.5809 - accuracy: 0.5480 - val_loss: 1.7911 - val_accuracy: 0.5264\n",
            "Epoch 24/80\n",
            "35/35 [==============================] - 3s 93ms/step - loss: 1.5134 - accuracy: 0.5681 - val_loss: 1.7122 - val_accuracy: 0.5395\n",
            "Epoch 25/80\n",
            "35/35 [==============================] - 3s 91ms/step - loss: 1.4797 - accuracy: 0.5625 - val_loss: 1.8005 - val_accuracy: 0.5191\n",
            "Epoch 26/80\n",
            "35/35 [==============================] - 3s 92ms/step - loss: 1.4414 - accuracy: 0.5789 - val_loss: 1.7316 - val_accuracy: 0.5395\n",
            "Epoch 27/80\n",
            "35/35 [==============================] - 3s 92ms/step - loss: 1.3797 - accuracy: 0.5958 - val_loss: 1.7270 - val_accuracy: 0.5395\n",
            "Epoch 28/80\n",
            "35/35 [==============================] - 3s 91ms/step - loss: 1.3347 - accuracy: 0.6118 - val_loss: 1.7077 - val_accuracy: 0.5419\n",
            "Epoch 29/80\n",
            "35/35 [==============================] - 3s 92ms/step - loss: 1.3220 - accuracy: 0.6129 - val_loss: 1.6153 - val_accuracy: 0.5696\n",
            "Epoch 30/80\n",
            "35/35 [==============================] - 3s 92ms/step - loss: 1.2349 - accuracy: 0.6356 - val_loss: 1.6157 - val_accuracy: 0.5655\n",
            "Epoch 31/80\n",
            "35/35 [==============================] - 3s 92ms/step - loss: 1.2425 - accuracy: 0.6295 - val_loss: 1.6000 - val_accuracy: 0.5728\n",
            "Epoch 32/80\n",
            "35/35 [==============================] - 3s 92ms/step - loss: 1.1875 - accuracy: 0.6467 - val_loss: 1.5948 - val_accuracy: 0.5818\n",
            "Epoch 33/80\n",
            "35/35 [==============================] - 3s 92ms/step - loss: 1.1150 - accuracy: 0.6651 - val_loss: 1.5976 - val_accuracy: 0.5696\n",
            "Epoch 34/80\n",
            "35/35 [==============================] - 3s 95ms/step - loss: 1.1289 - accuracy: 0.6639 - val_loss: 1.6257 - val_accuracy: 0.5582\n",
            "Epoch 35/80\n",
            "35/35 [==============================] - 3s 94ms/step - loss: 1.0644 - accuracy: 0.6795 - val_loss: 1.6076 - val_accuracy: 0.5801\n",
            "Epoch 36/80\n",
            "35/35 [==============================] - 3s 93ms/step - loss: 1.0640 - accuracy: 0.6816 - val_loss: 1.5610 - val_accuracy: 0.5940\n",
            "Epoch 37/80\n",
            "35/35 [==============================] - 3s 94ms/step - loss: 1.0153 - accuracy: 0.6934 - val_loss: 1.5649 - val_accuracy: 0.5924\n",
            "Epoch 38/80\n",
            "35/35 [==============================] - 3s 94ms/step - loss: 0.9687 - accuracy: 0.7003 - val_loss: 1.5520 - val_accuracy: 0.5940\n",
            "Epoch 39/80\n",
            "35/35 [==============================] - 3s 91ms/step - loss: 0.9527 - accuracy: 0.7103 - val_loss: 1.5962 - val_accuracy: 0.5850\n",
            "Epoch 40/80\n",
            "35/35 [==============================] - 3s 93ms/step - loss: 0.9228 - accuracy: 0.7142 - val_loss: 1.5416 - val_accuracy: 0.5997\n",
            "Epoch 41/80\n",
            "35/35 [==============================] - 3s 91ms/step - loss: 0.9010 - accuracy: 0.7253 - val_loss: 1.5522 - val_accuracy: 0.6086\n",
            "Epoch 42/80\n",
            "35/35 [==============================] - 3s 92ms/step - loss: 0.8682 - accuracy: 0.7282 - val_loss: 1.5535 - val_accuracy: 0.5956\n",
            "Epoch 43/80\n",
            "35/35 [==============================] - 3s 92ms/step - loss: 0.8882 - accuracy: 0.7205 - val_loss: 1.5274 - val_accuracy: 0.5989\n",
            "Epoch 44/80\n",
            "35/35 [==============================] - 3s 93ms/step - loss: 0.8359 - accuracy: 0.7434 - val_loss: 1.5676 - val_accuracy: 0.6037\n",
            "Epoch 45/80\n",
            "35/35 [==============================] - 3s 93ms/step - loss: 0.8276 - accuracy: 0.7453 - val_loss: 1.5437 - val_accuracy: 0.6037\n",
            "Epoch 46/80\n",
            "35/35 [==============================] - 3s 92ms/step - loss: 0.7766 - accuracy: 0.7565 - val_loss: 1.5694 - val_accuracy: 0.6070\n",
            "Epoch 47/80\n",
            "35/35 [==============================] - 3s 91ms/step - loss: 0.7545 - accuracy: 0.7667 - val_loss: 1.5534 - val_accuracy: 0.6143\n",
            "Epoch 48/80\n",
            "35/35 [==============================] - 3s 92ms/step - loss: 0.7343 - accuracy: 0.7664 - val_loss: 1.5803 - val_accuracy: 0.6046\n",
            "Epoch 49/80\n",
            "35/35 [==============================] - 3s 92ms/step - loss: 0.7445 - accuracy: 0.7672 - val_loss: 1.5441 - val_accuracy: 0.6135\n",
            "Epoch 50/80\n",
            "35/35 [==============================] - 3s 93ms/step - loss: 0.7303 - accuracy: 0.7685 - val_loss: 1.6323 - val_accuracy: 0.6103\n",
            "Epoch 51/80\n",
            "35/35 [==============================] - 3s 91ms/step - loss: 0.7173 - accuracy: 0.7737 - val_loss: 1.5783 - val_accuracy: 0.6119\n",
            "Epoch 52/80\n",
            "35/35 [==============================] - 3s 91ms/step - loss: 0.6987 - accuracy: 0.7826 - val_loss: 1.5264 - val_accuracy: 0.6241\n",
            "Epoch 53/80\n",
            "35/35 [==============================] - 3s 91ms/step - loss: 0.6730 - accuracy: 0.7842 - val_loss: 1.6534 - val_accuracy: 0.6046\n",
            "Epoch 54/80\n",
            "35/35 [==============================] - 3s 92ms/step - loss: 0.6464 - accuracy: 0.7932 - val_loss: 1.5906 - val_accuracy: 0.6241\n",
            "Epoch 55/80\n",
            "35/35 [==============================] - 3s 91ms/step - loss: 0.6253 - accuracy: 0.8078 - val_loss: 1.6198 - val_accuracy: 0.6159\n",
            "Epoch 56/80\n",
            "35/35 [==============================] - 3s 92ms/step - loss: 0.6271 - accuracy: 0.8010 - val_loss: 1.5757 - val_accuracy: 0.6070\n",
            "Epoch 57/80\n",
            "35/35 [==============================] - 3s 94ms/step - loss: 0.5880 - accuracy: 0.8099 - val_loss: 1.6065 - val_accuracy: 0.6111\n",
            "Epoch 58/80\n",
            "35/35 [==============================] - 3s 92ms/step - loss: 0.5630 - accuracy: 0.8220 - val_loss: 1.5905 - val_accuracy: 0.6143\n",
            "Epoch 59/80\n",
            "35/35 [==============================] - 3s 91ms/step - loss: 0.5844 - accuracy: 0.8131 - val_loss: 1.6179 - val_accuracy: 0.6233\n",
            "Epoch 60/80\n",
            "35/35 [==============================] - 3s 92ms/step - loss: 0.5934 - accuracy: 0.8088 - val_loss: 1.6282 - val_accuracy: 0.6225\n",
            "Epoch 61/80\n",
            "35/35 [==============================] - 3s 93ms/step - loss: 0.5489 - accuracy: 0.8259 - val_loss: 1.5714 - val_accuracy: 0.6347\n",
            "Epoch 62/80\n",
            "35/35 [==============================] - 3s 92ms/step - loss: 0.5369 - accuracy: 0.8259 - val_loss: 1.5948 - val_accuracy: 0.6225\n",
            "Epoch 63/80\n",
            "35/35 [==============================] - 3s 91ms/step - loss: 0.5336 - accuracy: 0.8333 - val_loss: 1.6602 - val_accuracy: 0.6257\n",
            "Epoch 64/80\n",
            "35/35 [==============================] - 3s 94ms/step - loss: 0.5484 - accuracy: 0.8292 - val_loss: 1.6245 - val_accuracy: 0.6265\n",
            "Epoch 65/80\n",
            "35/35 [==============================] - 3s 91ms/step - loss: 0.4966 - accuracy: 0.8417 - val_loss: 1.6734 - val_accuracy: 0.6249\n",
            "Epoch 66/80\n",
            "35/35 [==============================] - 3s 93ms/step - loss: 0.5269 - accuracy: 0.8319 - val_loss: 1.6263 - val_accuracy: 0.6233\n",
            "Epoch 67/80\n",
            "35/35 [==============================] - 3s 92ms/step - loss: 0.5282 - accuracy: 0.8303 - val_loss: 1.5904 - val_accuracy: 0.6273\n",
            "Epoch 68/80\n",
            "35/35 [==============================] - 3s 92ms/step - loss: 0.4745 - accuracy: 0.8440 - val_loss: 1.6800 - val_accuracy: 0.6282\n",
            "Epoch 69/80\n",
            "35/35 [==============================] - 3s 92ms/step - loss: 0.4484 - accuracy: 0.8542 - val_loss: 1.6814 - val_accuracy: 0.6330\n",
            "Epoch 70/80\n",
            "35/35 [==============================] - 3s 91ms/step - loss: 0.4740 - accuracy: 0.8484 - val_loss: 1.5830 - val_accuracy: 0.6338\n",
            "Epoch 71/80\n",
            "35/35 [==============================] - 3s 93ms/step - loss: 0.4934 - accuracy: 0.8385 - val_loss: 1.6308 - val_accuracy: 0.6322\n",
            "Epoch 72/80\n",
            "35/35 [==============================] - 3s 93ms/step - loss: 0.4736 - accuracy: 0.8471 - val_loss: 1.6604 - val_accuracy: 0.6257\n",
            "Epoch 73/80\n",
            "35/35 [==============================] - 3s 92ms/step - loss: 0.4528 - accuracy: 0.8566 - val_loss: 1.7124 - val_accuracy: 0.6078\n",
            "Epoch 74/80\n",
            "35/35 [==============================] - 3s 91ms/step - loss: 0.4626 - accuracy: 0.8501 - val_loss: 1.5910 - val_accuracy: 0.6436\n",
            "Epoch 75/80\n",
            "35/35 [==============================] - 3s 93ms/step - loss: 0.4224 - accuracy: 0.8601 - val_loss: 1.6579 - val_accuracy: 0.6395\n",
            "Epoch 76/80\n",
            "35/35 [==============================] - 3s 93ms/step - loss: 0.4172 - accuracy: 0.8629 - val_loss: 1.6183 - val_accuracy: 0.6420\n",
            "Epoch 77/80\n",
            "35/35 [==============================] - 3s 93ms/step - loss: 0.4171 - accuracy: 0.8670 - val_loss: 1.6547 - val_accuracy: 0.6363\n",
            "Epoch 78/80\n",
            "35/35 [==============================] - 3s 91ms/step - loss: 0.4254 - accuracy: 0.8606 - val_loss: 1.7155 - val_accuracy: 0.6241\n",
            "Epoch 79/80\n",
            "35/35 [==============================] - 3s 95ms/step - loss: 0.4159 - accuracy: 0.8638 - val_loss: 1.6430 - val_accuracy: 0.6412\n",
            "Epoch 80/80\n",
            "35/35 [==============================] - 3s 93ms/step - loss: 0.3861 - accuracy: 0.8747 - val_loss: 1.6513 - val_accuracy: 0.6420\n"
          ],
          "name": "stdout"
        },
        {
          "output_type": "execute_result",
          "data": {
            "text/plain": [
              "<tensorflow.python.keras.callbacks.History at 0x7f0d2009f668>"
            ]
          },
          "metadata": {
            "tags": []
          },
          "execution_count": 22
        }
      ]
    },
    {
      "cell_type": "code",
      "metadata": {
        "id": "8ZlbiPZVAA_9",
        "colab_type": "code",
        "colab": {
          "base_uri": "https://localhost:8080/",
          "height": 34
        },
        "outputId": "20f6e75a-4c85-4c3a-eceb-5efdda469e4a"
      },
      "source": [
        "model.save('model.h5')\n",
        "print('model saved')"
      ],
      "execution_count": 23,
      "outputs": [
        {
          "output_type": "stream",
          "text": [
            "model saved\n"
          ],
          "name": "stdout"
        }
      ]
    },
    {
      "cell_type": "code",
      "metadata": {
        "id": "buas-LK2Cvem",
        "colab_type": "code",
        "colab": {
          "base_uri": "https://localhost:8080/",
          "height": 101
        },
        "outputId": "fd5f8f28-d5c3-4e3b-af78-f4685e9504c1"
      },
      "source": [
        "from keras.models import load_model\n",
        "model = load_model(\"model.h5\")\n",
        " \n",
        "score = model.evaluate(valx, valy)\n",
        " \n",
        "print('Test loss:', score[0]) \n",
        "print('Test accuracy:', score[1])\n",
        " \n",
        "#Predict output on sample input data\n",
        "pred = model.predict(valx) \n",
        "pred = np.argmax(pred, axis = 1)[:20] \n",
        "label = np.argmax(valy,axis = 1)[:20] \n",
        " \n",
        "print(\"Predicted labels:\",pred) \n",
        "print(\"Actual Labels:   \",label)"
      ],
      "execution_count": 24,
      "outputs": [
        {
          "output_type": "stream",
          "text": [
            "39/39 [==============================] - 0s 10ms/step - loss: 1.6513 - accuracy: 0.6420\n",
            "Test loss: 1.6513481140136719\n",
            "Test accuracy: 0.6419853568077087\n",
            "Predicted labels: [74 93 94 80 91 93 97 93 66 29 93 41 87 50 45 76 84  4 73 23]\n",
            "Actual Labels:    [74 17 82 80 91 67  2 93 66 29 81 41 87 71 73 21  2  4 52 83]\n"
          ],
          "name": "stdout"
        }
      ]
    },
    {
      "cell_type": "code",
      "metadata": {
        "id": "tD74LB4ADMKK",
        "colab_type": "code",
        "colab": {
          "base_uri": "https://localhost:8080/",
          "height": 655
        },
        "outputId": "6c282a50-87f1-47ee-8f36-b341185b6e73"
      },
      "source": [
        "\n",
        "model.summary()\n"
      ],
      "execution_count": 25,
      "outputs": [
        {
          "output_type": "stream",
          "text": [
            "Model: \"sequential\"\n",
            "_________________________________________________________________\n",
            "Layer (type)                 Output Shape              Param #   \n",
            "=================================================================\n",
            "conv2d (Conv2D)              (None, 74, 74, 64)        1792      \n",
            "_________________________________________________________________\n",
            "max_pooling2d (MaxPooling2D) (None, 37, 37, 64)        0         \n",
            "_________________________________________________________________\n",
            "dropout (Dropout)            (None, 37, 37, 64)        0         \n",
            "_________________________________________________________________\n",
            "conv2d_1 (Conv2D)            (None, 35, 35, 128)       73856     \n",
            "_________________________________________________________________\n",
            "max_pooling2d_1 (MaxPooling2 (None, 17, 17, 128)       0         \n",
            "_________________________________________________________________\n",
            "dropout_1 (Dropout)          (None, 17, 17, 128)       0         \n",
            "_________________________________________________________________\n",
            "conv2d_2 (Conv2D)            (None, 15, 15, 128)       147584    \n",
            "_________________________________________________________________\n",
            "max_pooling2d_2 (MaxPooling2 (None, 7, 7, 128)         0         \n",
            "_________________________________________________________________\n",
            "dropout_2 (Dropout)          (None, 7, 7, 128)         0         \n",
            "_________________________________________________________________\n",
            "conv2d_3 (Conv2D)            (None, 5, 5, 256)         295168    \n",
            "_________________________________________________________________\n",
            "max_pooling2d_3 (MaxPooling2 (None, 2, 2, 256)         0         \n",
            "_________________________________________________________________\n",
            "flatten (Flatten)            (None, 1024)              0         \n",
            "_________________________________________________________________\n",
            "dense (Dense)                (None, 512)               524800    \n",
            "_________________________________________________________________\n",
            "dropout_3 (Dropout)          (None, 512)               0         \n",
            "_________________________________________________________________\n",
            "dense_1 (Dense)              (None, 102)               52326     \n",
            "=================================================================\n",
            "Total params: 1,095,526\n",
            "Trainable params: 1,095,526\n",
            "Non-trainable params: 0\n",
            "_________________________________________________________________\n"
          ],
          "name": "stdout"
        }
      ]
    },
    {
      "cell_type": "code",
      "metadata": {
        "id": "b9qEPpIbDoEr",
        "colab_type": "code",
        "colab": {}
      },
      "source": [
        ""
      ],
      "execution_count": 25,
      "outputs": []
    }
  ]
}